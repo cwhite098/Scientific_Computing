{
 "cells": [
  {
   "cell_type": "markdown",
   "metadata": {},
   "source": [
    "## Finding Periodic Orbits with Numerical Shooting\n",
    "\n",
    "This package contains methods for numerically finding limit cycles in oscillatory solutions of ODEs.\n",
    "\n",
    "You must first run the code block below to allow imports from the rest of this package."
   ]
  },
  {
   "cell_type": "code",
   "execution_count": 1,
   "metadata": {},
   "outputs": [],
   "source": [
    "from os import sys\n",
    "sys.path.append(\"..\")"
   ]
  },
  {
   "cell_type": "markdown",
   "metadata": {},
   "source": [
    "It is necessary to first define your 1st order (or system of 1st order) ODE(s). For the following example, a predator-prey model will be used:\n",
    "\n",
    "$\\frac{dx}{dt} = x(1-x) - \\frac{axy}{d+x}$,\n",
    "\n",
    "$\\frac{dy}{dt} = by(1-\\frac{y}{x})$,\n",
    "\n",
    "with parameter values of $a=1$, $d=0.1$ and $b=0.2$. This system of ODEs can be encoded as a Python function as shown in the next cell."
   ]
  },
  {
   "cell_type": "code",
   "execution_count": 2,
   "metadata": {},
   "outputs": [],
   "source": [
    "def predator_prey(X, t, params):\n",
    "    '''\n",
    "    Function that contains the predator-prey ODE system.\n",
    "\n",
    "    Parameters\n",
    "    ----------\n",
    "    X : list\n",
    "        The current state of the system (values of x and y).\n",
    "    t : np.array\n",
    "        Numpy array containing the times for the solution to be evaluated at.\n",
    "    params : dict\n",
    "        Dictionary containing the parameters required for solving the system.\n",
    "    \n",
    "    Returns\n",
    "    -------\n",
    "    X : list\n",
    "        List containing the gradients computed for the given values of x, y and the \n",
    "        parameters.\n",
    "    '''\n",
    "    # Get parameters\n",
    "    a = params['a']\n",
    "    b = params['b']\n",
    "    d = params['d']\n",
    "\n",
    "    # Get system state\n",
    "    x = X[0]\n",
    "    y = X[1]\n",
    "\n",
    "    # Calculate gradients\n",
    "    dxdt = x*(1-x) - (a*x*y) / (d+x)\n",
    "    dydt = b*y*(1-(y/x))\n",
    "\n",
    "    X = [dxdt, dydt]\n",
    "    return X"
   ]
  },
  {
   "cell_type": "markdown",
   "metadata": {},
   "source": [
    "As well as defining the system of ODEs, it is also necessary to define a phase condition since otherwise there is not enough information for the numerical shooting method to produce an unique periodic orbit.\n",
    "\n",
    "We will use the phase condition, $\\frac{dx(t=0)}{dt} = 0$. This will fix the gradient of $x$ at time $t=0$ to $0$."
   ]
  },
  {
   "cell_type": "code",
   "execution_count": 3,
   "metadata": {},
   "outputs": [],
   "source": [
    "def pc_predator_prey(X0, **params):\n",
    "    '''\n",
    "    Function containing the phase conidition that fixes dx/dt=0 for t=0.\n",
    "\n",
    "    Parameters\n",
    "    ----------\n",
    "    X0 : list\n",
    "        Initial conditions of the system [x,y].\n",
    "    **params:\n",
    "        Optional parameters for passing to the ODE system.\n",
    "        In this case, a, b and d are required but these will be defined when the\n",
    "        numerical shooing occurs.\n",
    "\n",
    "    Returns\n",
    "    -------\n",
    "    dxdt_at_0 : float\n",
    "        The value of the gradient in the x direction at t=0. \n",
    "        This will be set to 0 as the root finding part of the shooting algorithm converges.\n",
    "    '''\n",
    "    dxdt_at_0 = predator_prey(X0, 0, params)[0]\n",
    "    return dxdt_at_0"
   ]
  },
  {
   "cell_type": "markdown",
   "metadata": {},
   "source": [
    "We are now ready to carry out the numerical shooting. This can be done as shown below."
   ]
  },
  {
   "cell_type": "code",
   "execution_count": 4,
   "metadata": {},
   "outputs": [
    {
     "name": "stdout",
     "output_type": "stream",
     "text": [
      "[0.5778715  0.28614888]\n",
      "20.816866855928744\n"
     ]
    }
   ],
   "source": [
    "from numerical_shooting import numerical_shooting\n",
    "X0, T = numerical_shooting([1.3, 1.3], 10, predator_prey, pc_predator_prey, a=1, b=0.2, d=0.1)\n",
    "print(X0)\n",
    "print(T)"
   ]
  },
  {
   "cell_type": "markdown",
   "metadata": {},
   "source": [
    "The numerical shooting function returns X0 which contains the initial conditions for the periodic orbit and T which is the period of the periodic orbit. To visualise this solution, the plot_orbit function can be used."
   ]
  },
  {
   "cell_type": "code",
   "execution_count": 5,
   "metadata": {},
   "outputs": [
    {
     "data": {
      "image/png": "[encoded data removed]",
      "text/plain": [
       "<Figure size 432x288 with 1 Axes>"
      ]
     },
     "metadata": {
      "needs_background": "light"
     },
     "output_type": "display_data"
    }
   ],
   "source": [
    "from plots import plot_orbit\n",
    "plot_orbit(X0, T, predator_prey, 'Periodic Orbit', a=1, b=0.2, d=0.1)"
   ]
  },
  {
   "cell_type": "markdown",
   "metadata": {},
   "source": [
    "This method can be used to find periodic orbits in ODE systems with arbitrary dimensions."
   ]
  }
 ],
 "metadata": {
  "interpreter": {
   "hash": "976be6a1ce5db41822277ef3622d1537bdeb43c5825a8e6f605cfcee83006ac5"
  },
  "kernelspec": {
   "display_name": "Python 3.9.7 ('SciVenv')",
   "language": "python",
   "name": "python3"
  },
  "language_info": {
   "codemirror_mode": {
    "name": "ipython",
    "version": 3
   },
   "file_extension": ".py",
   "mimetype": "text/x-python",
   "name": "python",
   "nbconvert_exporter": "python",
   "pygments_lexer": "ipython3",
   "version": "3.9.7"
  },
  "orig_nbformat": 4
 },
 "nbformat": 4,
 "nbformat_minor": 2
}
